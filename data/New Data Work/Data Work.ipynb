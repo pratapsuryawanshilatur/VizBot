{
 "cells": [
  {
   "cell_type": "markdown",
   "id": "dfa27cdb-ec28-4111-998c-55ead51db765",
   "metadata": {},
   "source": [
    "## Dissertation Data Work - 230333550\n",
    "\n",
    "### Hierarchy Data Work"
   ]
  },
  {
   "cell_type": "code",
   "execution_count": 56,
   "id": "d812a171-e526-4c01-bd49-dd11324c3029",
   "metadata": {},
   "outputs": [],
   "source": [
    "# Import required libraries\n",
    "import pandas as pd\n",
    "import matplotlib.pyplot as plt"
   ]
  },
  {
   "cell_type": "code",
   "execution_count": 57,
   "id": "a38ec9cb-c8ea-42c1-b811-de944ef64e44",
   "metadata": {},
   "outputs": [],
   "source": [
    "#Load Hierarchy Data\n",
    "df = pd.read_csv(\"hierarchy_new_data.csv\") # load raw hierarchy CSV for schema inspection and cleaning."
   ]
  },
  {
   "cell_type": "code",
   "execution_count": 58,
   "id": "057d2b04-a0eb-40f3-936a-e14eebd66e5f",
   "metadata": {},
   "outputs": [
    {
     "data": {
      "text/plain": [
       "(32, 11)"
      ]
     },
     "execution_count": 58,
     "metadata": {},
     "output_type": "execute_result"
    }
   ],
   "source": [
    "# Inspect Shape\n",
    "df.shape"
   ]
  },
  {
   "cell_type": "code",
   "execution_count": 59,
   "id": "5aa3b0d4-fbe6-4817-95a3-3b4d0b01d44e",
   "metadata": {},
   "outputs": [
    {
     "data": {
      "text/html": [
       "<div>\n",
       "<style scoped>\n",
       "    .dataframe tbody tr th:only-of-type {\n",
       "        vertical-align: middle;\n",
       "    }\n",
       "\n",
       "    .dataframe tbody tr th {\n",
       "        vertical-align: top;\n",
       "    }\n",
       "\n",
       "    .dataframe thead th {\n",
       "        text-align: right;\n",
       "    }\n",
       "</style>\n",
       "<table border=\"1\" class=\"dataframe\">\n",
       "  <thead>\n",
       "    <tr style=\"text-align: right;\">\n",
       "      <th></th>\n",
       "      <th>name</th>\n",
       "      <th>display_name</th>\n",
       "      <th>hierarchy_type</th>\n",
       "      <th>parent</th>\n",
       "      <th>geometry_id</th>\n",
       "      <th>portfolio_name</th>\n",
       "      <th>id</th>\n",
       "      <th>parent_id</th>\n",
       "      <th>longitude</th>\n",
       "      <th>latitude</th>\n",
       "      <th>portfolio_id</th>\n",
       "    </tr>\n",
       "  </thead>\n",
       "  <tbody>\n",
       "    <tr>\n",
       "      <th>0</th>\n",
       "      <td>sbs</td>\n",
       "      <td>PES</td>\n",
       "      <td>space</td>\n",
       "      <td>sbs</td>\n",
       "      <td>23175</td>\n",
       "      <td>UoO</td>\n",
       "      <td>24052</td>\n",
       "      <td>23728</td>\n",
       "      <td>NaN</td>\n",
       "      <td>NaN</td>\n",
       "      <td>23457</td>\n",
       "    </tr>\n",
       "    <tr>\n",
       "      <th>1</th>\n",
       "      <td>sbs-floor-0-seminar-room-64</td>\n",
       "      <td>PES Seminar Room 9</td>\n",
       "      <td>space</td>\n",
       "      <td>sbs</td>\n",
       "      <td>23611</td>\n",
       "      <td>UoO</td>\n",
       "      <td>23961</td>\n",
       "      <td>23728</td>\n",
       "      <td>NaN</td>\n",
       "      <td>NaN</td>\n",
       "      <td>23457</td>\n",
       "    </tr>\n",
       "    <tr>\n",
       "      <th>2</th>\n",
       "      <td>sbs-floor-0-seminar-room-51</td>\n",
       "      <td>PES Seminar Room 2</td>\n",
       "      <td>space</td>\n",
       "      <td>sbs</td>\n",
       "      <td>23605</td>\n",
       "      <td>UoO</td>\n",
       "      <td>23955</td>\n",
       "      <td>23728</td>\n",
       "      <td>NaN</td>\n",
       "      <td>NaN</td>\n",
       "      <td>23457</td>\n",
       "    </tr>\n",
       "    <tr>\n",
       "      <th>3</th>\n",
       "      <td>sbs-floor-0-seminar-room-52</td>\n",
       "      <td>PES Seminar Room 3</td>\n",
       "      <td>space</td>\n",
       "      <td>sbs</td>\n",
       "      <td>23606</td>\n",
       "      <td>UoO</td>\n",
       "      <td>23956</td>\n",
       "      <td>23728</td>\n",
       "      <td>NaN</td>\n",
       "      <td>NaN</td>\n",
       "      <td>23457</td>\n",
       "    </tr>\n",
       "    <tr>\n",
       "      <th>4</th>\n",
       "      <td>sbs-floor-0-seminar-room-60</td>\n",
       "      <td>PES The Hive</td>\n",
       "      <td>space</td>\n",
       "      <td>sbs</td>\n",
       "      <td>23607</td>\n",
       "      <td>UoO</td>\n",
       "      <td>23957</td>\n",
       "      <td>23728</td>\n",
       "      <td>NaN</td>\n",
       "      <td>NaN</td>\n",
       "      <td>23457</td>\n",
       "    </tr>\n",
       "  </tbody>\n",
       "</table>\n",
       "</div>"
      ],
      "text/plain": [
       "                          name        display_name hierarchy_type parent  \\\n",
       "0                          sbs                 PES          space    sbs   \n",
       "1  sbs-floor-0-seminar-room-64  PES Seminar Room 9          space    sbs   \n",
       "2  sbs-floor-0-seminar-room-51  PES Seminar Room 2          space    sbs   \n",
       "3  sbs-floor-0-seminar-room-52  PES Seminar Room 3          space    sbs   \n",
       "4  sbs-floor-0-seminar-room-60        PES The Hive          space    sbs   \n",
       "\n",
       "   geometry_id portfolio_name     id  parent_id  longitude  latitude  \\\n",
       "0        23175            UoO  24052      23728        NaN       NaN   \n",
       "1        23611            UoO  23961      23728        NaN       NaN   \n",
       "2        23605            UoO  23955      23728        NaN       NaN   \n",
       "3        23606            UoO  23956      23728        NaN       NaN   \n",
       "4        23607            UoO  23957      23728        NaN       NaN   \n",
       "\n",
       "   portfolio_id  \n",
       "0         23457  \n",
       "1         23457  \n",
       "2         23457  \n",
       "3         23457  \n",
       "4         23457  "
      ]
     },
     "execution_count": 59,
     "metadata": {},
     "output_type": "execute_result"
    }
   ],
   "source": [
    "# Preview\n",
    "df.head(5)"
   ]
  },
  {
   "cell_type": "markdown",
   "id": "94d2f86a-4c61-4b99-a965-f50f759478a9",
   "metadata": {},
   "source": [
    "### Schema and dtypes (hierarchy)\n",
    "Confirm column presence and types before dropping fields."
   ]
  },
  {
   "cell_type": "code",
   "execution_count": 60,
   "id": "d919b64c-b05f-4e4c-960a-609fbb651f18",
   "metadata": {},
   "outputs": [
    {
     "name": "stdout",
     "output_type": "stream",
     "text": [
      "<class 'pandas.core.frame.DataFrame'>\n",
      "RangeIndex: 32 entries, 0 to 31\n",
      "Data columns (total 11 columns):\n",
      " #   Column          Non-Null Count  Dtype  \n",
      "---  ------          --------------  -----  \n",
      " 0   name            32 non-null     object \n",
      " 1   display_name    32 non-null     object \n",
      " 2   hierarchy_type  32 non-null     object \n",
      " 3   parent          32 non-null     object \n",
      " 4   geometry_id     32 non-null     int64  \n",
      " 5   portfolio_name  32 non-null     object \n",
      " 6   id              32 non-null     int64  \n",
      " 7   parent_id       32 non-null     int64  \n",
      " 8   longitude       0 non-null      float64\n",
      " 9   latitude        0 non-null      float64\n",
      " 10  portfolio_id    32 non-null     int64  \n",
      "dtypes: float64(2), int64(4), object(5)\n",
      "memory usage: 2.9+ KB\n"
     ]
    }
   ],
   "source": [
    "df.info()"
   ]
  },
  {
   "cell_type": "code",
   "execution_count": 61,
   "id": "fd14e42d-0e7c-4df5-a502-e2dfd2754382",
   "metadata": {},
   "outputs": [
    {
     "data": {
      "text/plain": [
       "Index(['name', 'display_name', 'hierarchy_type', 'parent', 'geometry_id',\n",
       "       'portfolio_name', 'id', 'parent_id', 'longitude', 'latitude',\n",
       "       'portfolio_id'],\n",
       "      dtype='object')"
      ]
     },
     "execution_count": 61,
     "metadata": {},
     "output_type": "execute_result"
    }
   ],
   "source": [
    "df.columns"
   ]
  },
  {
   "cell_type": "code",
   "execution_count": 62,
   "id": "85120759-6ee0-4814-894b-3834b2c66e5d",
   "metadata": {},
   "outputs": [
    {
     "data": {
      "text/plain": [
       "name               object\n",
       "display_name       object\n",
       "hierarchy_type     object\n",
       "parent             object\n",
       "geometry_id         int64\n",
       "portfolio_name     object\n",
       "id                  int64\n",
       "parent_id           int64\n",
       "longitude         float64\n",
       "latitude          float64\n",
       "portfolio_id        int64\n",
       "dtype: object"
      ]
     },
     "execution_count": 62,
     "metadata": {},
     "output_type": "execute_result"
    }
   ],
   "source": [
    "df.dtypes"
   ]
  },
  {
   "cell_type": "markdown",
   "id": "c50cdd99-df40-4c7d-877d-e3dc9c86300c",
   "metadata": {},
   "source": [
    "### Column Removal\n",
    "\n",
    "The following columns were removed as they provide little or no analytical value:\n",
    "\n",
    "- **longitude, latitude** → contain only null values.  \n",
    "- **hierarchy_type, parent, portfolio_name, portfolio_id** → contain a single repeated value across all rows and therefore add no useful information for this work."
   ]
  },
  {
   "cell_type": "code",
   "execution_count": 63,
   "id": "8c2363d1-28c7-4020-a8ed-87b612515f01",
   "metadata": {},
   "outputs": [],
   "source": [
    "# Drop unused hiearchy columns\n",
    "df.drop(columns=['hierarchy_type','portfolio_id', 'longitude','latitude','portfolio_name','parent'], inplace=True)"
   ]
  },
  {
   "cell_type": "markdown",
   "id": "e86e7512-1f22-4584-83f7-a2342aaba51b",
   "metadata": {},
   "source": [
    "### Post-drop schema check (hierarchy)"
   ]
  },
  {
   "cell_type": "code",
   "execution_count": 64,
   "id": "8fb99d58-e076-4158-b03d-5a2fbe8e5c5c",
   "metadata": {},
   "outputs": [
    {
     "data": {
      "text/plain": [
       "Index(['name', 'display_name', 'geometry_id', 'id', 'parent_id'], dtype='object')"
      ]
     },
     "execution_count": 64,
     "metadata": {},
     "output_type": "execute_result"
    }
   ],
   "source": [
    "# Check remaining columns\n",
    "df.columns"
   ]
  },
  {
   "cell_type": "markdown",
   "id": "6ed60c84-8f37-4d39-9e86-4edfcf05e109",
   "metadata": {},
   "source": [
    "### Feature Extraction (Manual Step)\n",
    "\n",
    "The DataFrame originally contained only:\n",
    "\n",
    "`['name', 'display_name', 'geometry_id', 'id', 'parent_id']`\n",
    "\n",
    "From the columns `name` and `display_name`, I manually derived the following new fields outside the notebook to better support user queries:\n",
    "\n",
    "`['id', 'Area', 'Floor', 'Room_Name', 'geometry_id', 'parent_id']`\n",
    "\n",
    "These fields also align with the actual **space_metadata** table structure in the database."
   ]
  },
  {
   "cell_type": "code",
   "execution_count": 65,
   "id": "d80ab453-27d6-4563-bab5-cd09c3a9df3e",
   "metadata": {},
   "outputs": [
    {
     "data": {
      "text/plain": [
       "0"
      ]
     },
     "execution_count": 65,
     "metadata": {},
     "output_type": "execute_result"
    }
   ],
   "source": [
    "#Check for any duplicated values\n",
    "df.duplicated().sum()"
   ]
  },
  {
   "cell_type": "code",
   "execution_count": 66,
   "id": "8faf3cb5-296e-4083-a878-58e759d0b9a8",
   "metadata": {},
   "outputs": [
    {
     "data": {
      "text/plain": [
       "name            0\n",
       "display_name    0\n",
       "geometry_id     0\n",
       "id              0\n",
       "parent_id       0\n",
       "dtype: int64"
      ]
     },
     "execution_count": 66,
     "metadata": {},
     "output_type": "execute_result"
    }
   ],
   "source": [
    "# Check null values\n",
    "df.isnull().sum()"
   ]
  },
  {
   "cell_type": "markdown",
   "id": "8e2db262-c3f2-4ea4-a2af-a3055e5ad503",
   "metadata": {},
   "source": [
    "### Save cleaned hierarchy data"
   ]
  },
  {
   "cell_type": "code",
   "execution_count": 67,
   "id": "aef08385-ab46-413f-bd99-5425064bc077",
   "metadata": {},
   "outputs": [
    {
     "name": "stdout",
     "output_type": "stream",
     "text": [
      "Final enriched smartviz_hierarchy dataset saved as: smartviz_hierarchy_new_data_cleaned_data.csv\n"
     ]
    }
   ],
   "source": [
    "# Save to CSV\n",
    "df.to_csv(\"smartviz_hierarchy_new_data_cleaned_data.csv\", index=False)\n",
    "print(\"Final enriched smartviz_hierarchy dataset saved as: smartviz_hierarchy_new_data_cleaned_data.csv\")"
   ]
  },
  {
   "cell_type": "markdown",
   "id": "15c62b05-9d53-42eb-87bb-a62126947964",
   "metadata": {},
   "source": [
    "### Time-aggregated Data Work"
   ]
  },
  {
   "cell_type": "code",
   "execution_count": 68,
   "id": "28c29b10-67fa-465a-87fb-448778f3fcba",
   "metadata": {},
   "outputs": [],
   "source": [
    "# Load time-aggregated data\n",
    "data = pd.read_csv('timeaggregated_new_data.csv')"
   ]
  },
  {
   "cell_type": "markdown",
   "id": "9fd118c9-864b-4020-ad39-ab88cf4f86e3",
   "metadata": {},
   "source": [
    "### Inspect shape and columns (timeaggregated)"
   ]
  },
  {
   "cell_type": "code",
   "execution_count": 69,
   "id": "ce63d963-8428-4944-997b-916950f6afd4",
   "metadata": {},
   "outputs": [
    {
     "data": {
      "text/plain": [
       "(2411456, 14)"
      ]
     },
     "execution_count": 69,
     "metadata": {},
     "output_type": "execute_result"
    }
   ],
   "source": [
    "data.shape"
   ]
  },
  {
   "cell_type": "code",
   "execution_count": 70,
   "id": "dcc45617-f99d-46ff-8ea7-d610718f4be4",
   "metadata": {},
   "outputs": [
    {
     "data": {
      "text/plain": [
       "Index(['id', 'frequency', 'start_time', 'end_time', 'metric_name',\n",
       "       'aggregation', 'value', 'geometry_id', 'is_holiday', 'is_valid',\n",
       "       'is_working', 'hierarchy_id', 'portfolio_id', 'data_source_id'],\n",
       "      dtype='object')"
      ]
     },
     "execution_count": 70,
     "metadata": {},
     "output_type": "execute_result"
    }
   ],
   "source": [
    "data.columns"
   ]
  },
  {
   "cell_type": "markdown",
   "id": "e59c3d8b-1cf6-4297-88a5-70a5b584f6c8",
   "metadata": {},
   "source": [
    "### Column Removal\n",
    "\n",
    "The following columns were removed as they provide little or no analytical value:\n",
    "\n",
    "- **hierarchy_id** → contain only null values.  \n",
    "- **portfolio_id, data_source_id** → contain a single repeated value across all rows and therefore add no useful information for this work."
   ]
  },
  {
   "cell_type": "code",
   "execution_count": 71,
   "id": "ec38a9a6-ea83-4496-b1f8-517e6c5e9e1a",
   "metadata": {},
   "outputs": [],
   "source": [
    "# Drop unused timeaggregated columns\n",
    "data.drop(columns=['hierarchy_id','portfolio_id','data_source_id'], inplace=True)"
   ]
  },
  {
   "cell_type": "code",
   "execution_count": 72,
   "id": "0a82a92f-3f52-47cd-b939-22d909b8ac29",
   "metadata": {},
   "outputs": [
    {
     "data": {
      "text/plain": [
       "Index(['id', 'frequency', 'start_time', 'end_time', 'metric_name',\n",
       "       'aggregation', 'value', 'geometry_id', 'is_holiday', 'is_valid',\n",
       "       'is_working'],\n",
       "      dtype='object')"
      ]
     },
     "execution_count": 72,
     "metadata": {},
     "output_type": "execute_result"
    }
   ],
   "source": [
    "#Remaining columns\n",
    "data.columns"
   ]
  },
  {
   "cell_type": "code",
   "execution_count": 73,
   "id": "1ba9821f-fc41-4924-b646-8445c4a777c3",
   "metadata": {},
   "outputs": [
    {
     "name": "stdout",
     "output_type": "stream",
     "text": [
      "id             0\n",
      "frequency      0\n",
      "start_time     0\n",
      "end_time       0\n",
      "metric_name    0\n",
      "aggregation    0\n",
      "value          0\n",
      "geometry_id    0\n",
      "is_holiday     0\n",
      "is_valid       0\n",
      "is_working     0\n",
      "dtype: int64\n"
     ]
    }
   ],
   "source": [
    "#Check null values in columns\n",
    "print(data.isnull().sum())"
   ]
  },
  {
   "cell_type": "markdown",
   "id": "d01ee0be-d1ca-488d-a3ef-f22b63f11648",
   "metadata": {},
   "source": [
    "### Convert start_time and end_time to UTC for consistent time operations and indexing."
   ]
  },
  {
   "cell_type": "code",
   "execution_count": 74,
   "id": "28b6777b-a3f4-4b2e-bf3e-952a91eeb775",
   "metadata": {},
   "outputs": [],
   "source": [
    "# Force datetime with UTC handling\n",
    "data['start_time'] = pd.to_datetime(data['start_time'], utc=True)\n",
    "data['end_time'] = pd.to_datetime(data['end_time'], utc=True)"
   ]
  },
  {
   "cell_type": "code",
   "execution_count": 75,
   "id": "1b5b46ae-3bd3-4610-8462-da93a4ad3319",
   "metadata": {},
   "outputs": [
    {
     "data": {
      "text/plain": [
       "id                           int64\n",
       "frequency                   object\n",
       "start_time     datetime64[ns, UTC]\n",
       "end_time       datetime64[ns, UTC]\n",
       "metric_name                 object\n",
       "aggregation                 object\n",
       "value                      float64\n",
       "geometry_id                  int64\n",
       "is_holiday                    bool\n",
       "is_valid                      bool\n",
       "is_working                    bool\n",
       "dtype: object"
      ]
     },
     "execution_count": 75,
     "metadata": {},
     "output_type": "execute_result"
    }
   ],
   "source": [
    "data.dtypes"
   ]
  },
  {
   "cell_type": "code",
   "execution_count": 76,
   "id": "71a2590d-d0d5-48b4-918c-f0d1194f0bab",
   "metadata": {},
   "outputs": [
    {
     "name": "stdout",
     "output_type": "stream",
     "text": [
      "Zero values in 'value': 22.25%\n"
     ]
    }
   ],
   "source": [
    "# Check % of zero values in 'value'\n",
    "zero_percentage = (data['value'] == 0).mean() * 100\n",
    "print(f\"Zero values in 'value': {zero_percentage:.2f}%\") # Zero-value share in value"
   ]
  },
  {
   "cell_type": "code",
   "execution_count": 77,
   "id": "fe42336d-d462-4ca3-ab9e-1ebe2d85d066",
   "metadata": {},
   "outputs": [],
   "source": [
    "# Create time-based features\n",
    "data['hour'] = data['start_time'].dt.hour\n",
    "data['dayofweek'] = data['start_time'].dt.dayofweek  # 0 = Monday\n",
    "data['month'] = data['start_time'].dt.month"
   ]
  },
  {
   "cell_type": "code",
   "execution_count": 78,
   "id": "7eca86ab-ae7c-4563-b8b4-236986ffe0e2",
   "metadata": {},
   "outputs": [
    {
     "data": {
      "text/plain": [
       "Index(['id', 'frequency', 'start_time', 'end_time', 'metric_name',\n",
       "       'aggregation', 'value', 'geometry_id', 'is_holiday', 'is_valid',\n",
       "       'is_working', 'hour', 'dayofweek', 'month'],\n",
       "      dtype='object')"
      ]
     },
     "execution_count": 78,
     "metadata": {},
     "output_type": "execute_result"
    }
   ],
   "source": [
    "data.columns"
   ]
  },
  {
   "cell_type": "code",
   "execution_count": 79,
   "id": "eadce222-393d-4acd-b535-9d503cc035ec",
   "metadata": {},
   "outputs": [
    {
     "data": {
      "text/plain": [
       "id             2411456\n",
       "frequency            2\n",
       "start_time        3072\n",
       "end_time          3072\n",
       "metric_name         30\n",
       "aggregation          4\n",
       "value            42353\n",
       "geometry_id        152\n",
       "is_holiday           1\n",
       "is_valid             1\n",
       "is_working           2\n",
       "hour                24\n",
       "dayofweek            7\n",
       "month                5\n",
       "dtype: int64"
      ]
     },
     "execution_count": 79,
     "metadata": {},
     "output_type": "execute_result"
    }
   ],
   "source": [
    "data.nunique()"
   ]
  },
  {
   "cell_type": "markdown",
   "id": "879d5d6b-90b1-461d-83c9-6e15e2ea4ba4",
   "metadata": {},
   "source": [
    "### Save Cleaned Time-aggregated data"
   ]
  },
  {
   "cell_type": "code",
   "execution_count": 80,
   "id": "3f69dc24-10c7-42d0-bd11-22a29a324634",
   "metadata": {},
   "outputs": [
    {
     "name": "stdout",
     "output_type": "stream",
     "text": [
      "Final enriched smartviz_timeaggregated dataset saved as: smartviz_timeaggregated_new_data_cleaned_data.csv\n"
     ]
    }
   ],
   "source": [
    "# Save to CSV\n",
    "data.to_csv(\"smartviz_timeaggregated_new_data_cleaned_data.csv\", index=False)\n",
    "print(\"Final enriched smartviz_timeaggregated dataset saved as: smartviz_timeaggregated_new_data_cleaned_data.csv\")"
   ]
  },
  {
   "cell_type": "markdown",
   "id": "be3d73b9-52c4-4221-9a5c-91a22571c4f2",
   "metadata": {},
   "source": [
    "### Final Data Placement\n",
    "\n",
    "After completing manual feature extraction on the hierarchy dataset, the updated file was saved in `project/data/` as **smartviz_hierarchy.csv**.  \n",
    "The cleaned time-aggregated dataset was also saved in the same directory as **smartviz_occupancy_new_data.csv**.  \n",
    "These files serve as the final inputs for database ingestion and chatbot integration."
   ]
  },
  {
   "cell_type": "code",
   "execution_count": null,
   "id": "b308f560-5841-4306-9d99-9c5cf417a340",
   "metadata": {},
   "outputs": [],
   "source": []
  }
 ],
 "metadata": {
  "kernelspec": {
   "display_name": "Python 3 (ipykernel)",
   "language": "python",
   "name": "python3"
  },
  "language_info": {
   "codemirror_mode": {
    "name": "ipython",
    "version": 3
   },
   "file_extension": ".py",
   "mimetype": "text/x-python",
   "name": "python",
   "nbconvert_exporter": "python",
   "pygments_lexer": "ipython3",
   "version": "3.12.7"
  }
 },
 "nbformat": 4,
 "nbformat_minor": 5
}
